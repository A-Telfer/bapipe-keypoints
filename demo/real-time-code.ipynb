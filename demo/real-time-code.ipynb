{
 "cells": [
  {
   "cell_type": "markdown",
   "id": "a0f57fae",
   "metadata": {},
   "source": [
    "# Real-Time Analytics dashboard\n",
    "This code was used to build a real-time analytics dashboard using Jupyterlab and Voila - it is currently dysfunctional due to version changes and only serves a demonstrative purpose of how such a dashboard can be made.\n",
    "\n",
    "![](../docs/assets/rt-dashboard-demo.gif)"
   ]
  },
  {
   "cell_type": "code",
   "execution_count": 1,
   "id": "85972a3e-5e5d-497d-8988-47d2cdb18a2b",
   "metadata": {
    "extensions": {
     "jupyter_dashboards": {
      "activeView": "grid_default",
      "views": {
       "grid_default": {
        "col": null,
        "height": 2,
        "hidden": true,
        "row": null,
        "width": 2
       }
      }
     }
    }
   },
   "outputs": [],
   "source": [
    "%matplotlib widget\n",
    "\n",
    "import numpy as np\n",
    "import ipywidgets as widgets\n",
    "import matplotlib.pyplot as plt\n",
    "import pandas as pd\n",
    "import pickle\n",
    "import cv2\n",
    "import seaborn as sns\n",
    "\n",
    "from functools import partial\n",
    "from ipywidgets import interact, interactive, fixed, interact_manual, Layout\n",
    "from pathlib import Path\n",
    "from IPython.display import display, HTML\n",
    "from src import api\n",
    "from skimage import draw\n",
    "\n",
    "# plt.style.use('dark_background')"
   ]
  },
  {
   "cell_type": "code",
   "execution_count": 2,
   "id": "39957c19-3588-43cd-84d7-8095da76b4a1",
   "metadata": {
    "extensions": {
     "jupyter_dashboards": {
      "activeView": "grid_default",
      "views": {
       "grid_default": {
        "col": null,
        "height": 2,
        "hidden": true,
        "row": null,
        "width": 2
       }
      }
     }
    }
   },
   "outputs": [],
   "source": [
    "DATA_FOLDER = Path(\"/home/andretelfer/shared/curated/fran/v2\")\n",
    "treatment_df = pd.read_csv(DATA_FOLDER / 'cohorts1&2.csv', index_col='animal')\n",
    "with open('experiment_data.pickle', 'rb') as fp:\n",
    "    experiment = pickle.load(fp)"
   ]
  },
  {
   "cell_type": "markdown",
   "id": "8a78769a-8450-4e9d-a2a8-b98a00395b8e",
   "metadata": {
    "extensions": {
     "jupyter_dashboards": {
      "activeView": "grid_default",
      "views": {
       "grid_default": {
        "col": null,
        "height": 2,
        "hidden": true,
        "row": null,
        "width": 2
       }
      }
     }
    }
   },
   "source": [
    "## Controls"
   ]
  },
  {
   "cell_type": "code",
   "execution_count": 3,
   "id": "e8e60325-59f7-49e2-bd67-d40488d9151c",
   "metadata": {
    "extensions": {
     "jupyter_dashboards": {
      "activeView": "grid_default",
      "views": {
       "grid_default": {
        "col": 0,
        "height": 5,
        "hidden": false,
        "row": 0,
        "width": 3
       }
      }
     }
    },
    "tags": []
   },
   "outputs": [
    {
     "data": {
      "application/vnd.jupyter.widget-view+json": {
       "model_id": "399bf801028b4d5cacea81ec3c0572c8",
       "version_major": 2,
       "version_minor": 0
      },
      "text/plain": [
       "HBox(children=(VBox(children=(Label(value='Video'), Label(value='Frame'), Label(value='Center Size'), Label(va…"
      ]
     },
     "metadata": {},
     "output_type": "display_data"
    }
   ],
   "source": [
    "class Controller:\n",
    "    def __init__(self):\n",
    "        self.video_dropdown = widgets.Dropdown(options=experiment.index)\n",
    "        self.frame_index_slider = widgets.IntSlider()\n",
    "        self.center_size_slider = widgets.IntSlider()\n",
    "        self.time_slice_slider = widgets.FloatRangeSlider()\n",
    "    \n",
    "        self.checkbox_update_stats = widgets.Checkbox(True)\n",
    "        self.checkbox_update_barplots = widgets.Checkbox(True)\n",
    "        self.checkbox_update_reference = widgets.Checkbox(True)\n",
    "        \n",
    "        self.analsis_button = widgets.Button(description=\"Update\")\n",
    "        \n",
    "        # Default values\n",
    "        sample = experiment[0]\n",
    "        self.frame_index_slider.max = sample.frame_count\n",
    "        self.center_size_slider.max = (sample.config.box_shape[0] // 2) -1\n",
    "        self.center_size_slider.value = self.center_size_slider.max // 2\n",
    "        \n",
    "    @property\n",
    "    def center_size(self):\n",
    "        return self.center_size_slider.value\n",
    "    \n",
    "    @property\n",
    "    def frame_index(self):\n",
    "        return self.frame_index_slider.value\n",
    "    \n",
    "    @property\n",
    "    def video_index(self):\n",
    "        return self.video_dropdown.index\n",
    "    \n",
    "    @property\n",
    "    def subject_analysis(self):\n",
    "        return experiment[self.video_index]\n",
    "        \n",
    "    @property\n",
    "    def start_ratio(self):\n",
    "        return self.time_slice_slider.value[0]/100\n",
    "        \n",
    "    @property\n",
    "    def end_ratio(self):\n",
    "        return self.time_slice_slider.value[1]/100\n",
    "\n",
    "    @property\n",
    "    def update_reference(self):\n",
    "        return self.checkbox_update_reference.value\n",
    "    \n",
    "    @property\n",
    "    def update_barplots(self):\n",
    "        return self.checkbox_update_barplots.value\n",
    "    \n",
    "    @property\n",
    "    def update_stats(self):\n",
    "        return self.checkbox_update_stats.value\n",
    "    \n",
    "    def display(self):\n",
    "        return widgets.HBox([\n",
    "            widgets.VBox([\n",
    "                widgets.Label(\"Video\"),\n",
    "                widgets.Label(\"Frame\"),\n",
    "                widgets.Label(\"Center Size\"),\n",
    "                widgets.Label(\"Time Range [%]\"),\n",
    "                widgets.Label(\"Update reference image\"),\n",
    "                widgets.Label(\"Update barplots\"),\n",
    "                widgets.Label(\"Update stats\"),\n",
    "            ], layout=Layout(width='100')),\n",
    "            widgets.VBox([\n",
    "                self.video_dropdown,\n",
    "                self.frame_index_slider,\n",
    "                self.center_size_slider,\n",
    "                self.time_slice_slider,\n",
    "                self.checkbox_update_reference,\n",
    "                self.checkbox_update_barplots,\n",
    "                self.checkbox_update_stats,\n",
    "                widgets.HBox([self.analsis_button], layout=Layout(justify_content='flex-end'))\n",
    "            ])\n",
    "        ])\n",
    "        \n",
    "controller = Controller()\n",
    "controller.display()"
   ]
  },
  {
   "cell_type": "markdown",
   "id": "76df1d7f-44da-4b50-bb95-271d73b026e5",
   "metadata": {
    "extensions": {
     "jupyter_dashboards": {
      "activeView": "grid_default",
      "views": {
       "grid_default": {
        "col": null,
        "height": 2,
        "hidden": true,
        "row": null,
        "width": 2
       }
      }
     }
    }
   },
   "source": [
    "## Analysis"
   ]
  },
  {
   "cell_type": "code",
   "execution_count": 4,
   "id": "9900b1dc-9b61-4a1c-91c5-4b2cdcb511bc",
   "metadata": {
    "extensions": {
     "jupyter_dashboards": {
      "activeView": "grid_default",
      "views": {
       "grid_default": {
        "col": null,
        "height": 2,
        "hidden": true,
        "row": null,
        "width": 2
       }
      }
     }
    },
    "tags": []
   },
   "outputs": [],
   "source": [
    "def get_center_box(video_analysis, center_size):\n",
    "    w, h = video_analysis.config.box_shape\n",
    "    cx = w // 2\n",
    "    cy = h // 2\n",
    "    s = center_size\n",
    "    center_box = {\n",
    "        'center': [[cx-s,cy-s], [cx+s,cy-s], [cx+s, cy+s], [cx-s,cy+s]],\n",
    "    }\n",
    "    return center_box\n",
    "\n",
    "def time_spent_in_center(video_analysis, center_size):\n",
    "    centroid = video_analysis.mouse_df.groupby(level='coords', axis=1).mean()\n",
    "    centroid = centroid[['x', 'y']].values\n",
    "    zones = get_center_box(video_analysis, center_size)\n",
    "    \n",
    "    out = {}\n",
    "    for key, value in zones.items():\n",
    "        poly = plt.Polygon(value)\n",
    "        out[key] = poly.contains_points(centroid)\n",
    "    \n",
    "    return out\n",
    "\n",
    "class Model:\n",
    "    def __init__(self):\n",
    "        self.observers = []\n",
    "        \n",
    "    def observe(self, observer):\n",
    "        self.observers.append(observer)\n",
    "        \n",
    "    def send_update(self):\n",
    "        for observer in self.observers:\n",
    "            observer()\n",
    "        \n",
    "    def update_analysis(self, *args):\n",
    "        foo = partial(\n",
    "            time_spent_in_center, \n",
    "            center_size = controller.center_size)\n",
    "        \n",
    "        self._raw_results = experiment.apply(foo)\n",
    "        self.update_time_range()\n",
    "        \n",
    "    def update_time_range(self, *args):\n",
    "        adjusted = []\n",
    "        \n",
    "        for idx, result in enumerate(self._raw_results):\n",
    "            subject_analysis = experiment[idx]\n",
    "            temp = {}\n",
    "            \n",
    "            results = result['center']\n",
    "            start_frame = int(controller.start_ratio * results.shape[0])\n",
    "            start_frame = max(start_frame, experiment[idx].first_frame_mouse_in_box)\n",
    "            \n",
    "            end_frame = int(controller.end_ratio * (results.shape[0]-1))\n",
    "            end_frame = max(end_frame, start_frame+1)\n",
    "            \n",
    "            temp['time_in_center'] = np.sum(result['center'][start_frame:end_frame])\n",
    "            temp['total_time'] = end_frame - start_frame\n",
    "            temp['ratio_time_in_center'] = temp['time_in_center'] / temp['total_time']\n",
    "            adjusted.append(temp)\n",
    "            \n",
    "        self._time_sliced_results = adjusted    \n",
    "        df = pd.DataFrame(adjusted, index=experiment.index)\n",
    "        self.results = df\n",
    "        self.send_update()\n",
    "        \n",
    "    @property\n",
    "    def results_with_treatment(self):\n",
    "        return treatment_df.join(self.results)"
   ]
  },
  {
   "cell_type": "code",
   "execution_count": 5,
   "id": "20c279c9-904c-4a2a-876e-d28c8de3b340",
   "metadata": {
    "extensions": {
     "jupyter_dashboards": {
      "activeView": "grid_default",
      "views": {
       "grid_default": {
        "col": null,
        "height": 2,
        "hidden": true,
        "row": null,
        "width": 2
       }
      }
     }
    }
   },
   "outputs": [
    {
     "name": "stderr",
     "output_type": "stream",
     "text": [
      "100%|██████████| 72/72 [00:00<00:00, 80.43it/s]\n"
     ]
    }
   ],
   "source": [
    "controller.center_size_slider.value = 59\n",
    "\n",
    "model = Model()\n",
    "model.update_analysis()\n",
    "model.update_time_range()"
   ]
  },
  {
   "cell_type": "code",
   "execution_count": 6,
   "id": "48283120-85d3-4dca-8533-520abb273637",
   "metadata": {
    "extensions": {
     "jupyter_dashboards": {
      "activeView": "grid_default",
      "views": {
       "grid_default": {
        "col": null,
        "height": 2,
        "hidden": true,
        "row": null,
        "width": 2
       }
      }
     }
    }
   },
   "outputs": [
    {
     "data": {
      "text/html": [
       "<div>\n",
       "<style scoped>\n",
       "    .dataframe tbody tr th:only-of-type {\n",
       "        vertical-align: middle;\n",
       "    }\n",
       "\n",
       "    .dataframe tbody tr th {\n",
       "        vertical-align: top;\n",
       "    }\n",
       "\n",
       "    .dataframe thead th {\n",
       "        text-align: right;\n",
       "    }\n",
       "</style>\n",
       "<table border=\"1\" class=\"dataframe\">\n",
       "  <thead>\n",
       "    <tr style=\"text-align: right;\">\n",
       "      <th></th>\n",
       "      <th>time_in_center</th>\n",
       "      <th>total_time</th>\n",
       "      <th>ratio_time_in_center</th>\n",
       "    </tr>\n",
       "  </thead>\n",
       "  <tbody>\n",
       "    <tr>\n",
       "      <th>m1</th>\n",
       "      <td>1075</td>\n",
       "      <td>9948</td>\n",
       "      <td>0.108062</td>\n",
       "    </tr>\n",
       "    <tr>\n",
       "      <th>m2</th>\n",
       "      <td>1596</td>\n",
       "      <td>9569</td>\n",
       "      <td>0.166789</td>\n",
       "    </tr>\n",
       "    <tr>\n",
       "      <th>m3</th>\n",
       "      <td>31</td>\n",
       "      <td>9167</td>\n",
       "      <td>0.003382</td>\n",
       "    </tr>\n",
       "    <tr>\n",
       "      <th>m4</th>\n",
       "      <td>160</td>\n",
       "      <td>9242</td>\n",
       "      <td>0.017312</td>\n",
       "    </tr>\n",
       "    <tr>\n",
       "      <th>m5</th>\n",
       "      <td>320</td>\n",
       "      <td>9659</td>\n",
       "      <td>0.033130</td>\n",
       "    </tr>\n",
       "    <tr>\n",
       "      <th>...</th>\n",
       "      <td>...</td>\n",
       "      <td>...</td>\n",
       "      <td>...</td>\n",
       "    </tr>\n",
       "    <tr>\n",
       "      <th>f36</th>\n",
       "      <td>0</td>\n",
       "      <td>9561</td>\n",
       "      <td>0.000000</td>\n",
       "    </tr>\n",
       "    <tr>\n",
       "      <th>f37</th>\n",
       "      <td>429</td>\n",
       "      <td>10054</td>\n",
       "      <td>0.042670</td>\n",
       "    </tr>\n",
       "    <tr>\n",
       "      <th>f38</th>\n",
       "      <td>150</td>\n",
       "      <td>9874</td>\n",
       "      <td>0.015191</td>\n",
       "    </tr>\n",
       "    <tr>\n",
       "      <th>f39</th>\n",
       "      <td>132</td>\n",
       "      <td>9685</td>\n",
       "      <td>0.013629</td>\n",
       "    </tr>\n",
       "    <tr>\n",
       "      <th>f40</th>\n",
       "      <td>871</td>\n",
       "      <td>10006</td>\n",
       "      <td>0.087048</td>\n",
       "    </tr>\n",
       "  </tbody>\n",
       "</table>\n",
       "<p>72 rows × 3 columns</p>\n",
       "</div>"
      ],
      "text/plain": [
       "     time_in_center  total_time  ratio_time_in_center\n",
       "m1             1075        9948              0.108062\n",
       "m2             1596        9569              0.166789\n",
       "m3               31        9167              0.003382\n",
       "m4              160        9242              0.017312\n",
       "m5              320        9659              0.033130\n",
       "..              ...         ...                   ...\n",
       "f36               0        9561              0.000000\n",
       "f37             429       10054              0.042670\n",
       "f38             150        9874              0.015191\n",
       "f39             132        9685              0.013629\n",
       "f40             871       10006              0.087048\n",
       "\n",
       "[72 rows x 3 columns]"
      ]
     },
     "execution_count": 6,
     "metadata": {},
     "output_type": "execute_result"
    }
   ],
   "source": [
    "model.results"
   ]
  },
  {
   "cell_type": "markdown",
   "id": "4ceb7bd8-e318-413a-ba1e-70f99fbf3a7d",
   "metadata": {
    "extensions": {
     "jupyter_dashboards": {
      "activeView": "grid_default",
      "views": {
       "grid_default": {
        "col": null,
        "height": 2,
        "hidden": true,
        "row": null,
        "width": 2
       }
      }
     }
    }
   },
   "source": [
    "## Plots"
   ]
  },
  {
   "cell_type": "markdown",
   "id": "a33ac72e-10ea-44ab-9e0d-3d4949adf416",
   "metadata": {
    "extensions": {
     "jupyter_dashboards": {
      "activeView": "grid_default",
      "views": {
       "grid_default": {
        "col": 2,
        "height": 2,
        "hidden": true,
        "row": 3,
        "width": 10
       }
      }
     }
    }
   },
   "source": [
    "### Display Video"
   ]
  },
  {
   "cell_type": "code",
   "execution_count": 7,
   "id": "ae23ce53-4130-4a9c-a147-6c6c63770db5",
   "metadata": {
    "extensions": {
     "jupyter_dashboards": {
      "activeView": "grid_default",
      "views": {
       "grid_default": {
        "col": 0,
        "height": 9,
        "hidden": false,
        "row": 5,
        "width": 3
       }
      }
     }
    },
    "tags": []
   },
   "outputs": [
    {
     "data": {
      "application/vnd.jupyter.widget-view+json": {
       "model_id": "e0801460b2a34e78844da4d0b8cdaead",
       "version_major": 2,
       "version_minor": 0
      },
      "image/png": "[encoded data removed]",
      "text/html": [
       "\n",
       "            <div style=\"display: inline-block;\">\n",
       "                <div class=\"jupyter-widgets widget-label\" style=\"text-align: center;\">\n",
       "                    Video\n",
       "                </div>\n",
       "                <img src='data:image/png;base64,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' width=400.0/>\n",
       "            </div>\n",
       "        "
      ],
      "text/plain": [
       "Canvas(toolbar=Toolbar(toolitems=[('Home', 'Reset original view', 'home', 'home'), ('Back', 'Back to previous …"
      ]
     },
     "metadata": {},
     "output_type": "display_data"
    }
   ],
   "source": [
    "class VideoView:\n",
    "    def __init__(self):\n",
    "        self.fig = plt.figure('Video', figsize=(4,4))\n",
    "        self.ax = plt.gca()\n",
    "        \n",
    "        self.fig.tight_layout()\n",
    "        self.ax.yaxis.set_visible(False)\n",
    "        self.ax.xaxis.set_visible(False)\n",
    "        \n",
    "        self.image = self.ax.imshow(\n",
    "            controller.subject_analysis.get_frame(controller.frame_index))\n",
    "        \n",
    "    def update(self, *args):\n",
    "        if not controller.update_reference:\n",
    "            return\n",
    "            \n",
    "        # Get the frame\n",
    "        frame = controller.subject_analysis.get_frame(controller.frame_index)\n",
    "        \n",
    "        # Draw the corners on\n",
    "        zones = get_center_box(controller.subject_analysis, controller.center_size)\n",
    "        for name, zone in zones.items():\n",
    "            x, y = np.array(zone).T\n",
    "            rr, cc = draw.polygon(x, y, shape=controller.subject_analysis.config.box_shape)\n",
    "            alpha = 0.3\n",
    "            frame[rr, cc] = (frame[rr, cc]*(1-alpha)).astype('uint8')\\\n",
    "                + (np.array([0, 0, 255])*alpha).astype('uint8')\n",
    "\n",
    "        self.image.set_data(frame)\n",
    "\n",
    "video_view = VideoView()\n",
    "plt.show()\n",
    "video_view.update()"
   ]
  },
  {
   "cell_type": "code",
   "execution_count": 18,
   "id": "c5c45a6e-7030-4b47-8916-3deb29393c15",
   "metadata": {
    "extensions": {
     "jupyter_dashboards": {
      "activeView": "grid_default",
      "views": {
       "grid_default": {
        "col": 3,
        "height": 7,
        "hidden": false,
        "row": 14,
        "width": 4
       }
      }
     }
    },
    "tags": []
   },
   "outputs": [
    {
     "data": {
      "application/vnd.jupyter.widget-view+json": {
       "model_id": "10c8eb37b17c4b78aa1077402942a6f7",
       "version_major": 2,
       "version_minor": 0
      },
      "image/png": "[encoded data removed]",
      "text/html": [
       "\n",
       "            <div style=\"display: inline-block;\">\n",
       "                <div class=\"jupyter-widgets widget-label\" style=\"text-align: center;\">\n",
       "                    Hist Treatment Group Means\n",
       "                </div>\n",
       "                <img src='data:image/png;base64,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' width=550.0/>\n",
       "            </div>\n",
       "        "
      ],
      "text/plain": [
       "Canvas(toolbar=Toolbar(toolitems=[('Home', 'Reset original view', 'home', 'home'), ('Back', 'Back to previous …"
      ]
     },
     "metadata": {},
     "output_type": "display_data"
    }
   ],
   "source": [
    "class HistogramTreatmentGroupMeansView:\n",
    "    def __init__(self):\n",
    "        self.fig = plt.figure('Hist Treatment Group Means', figsize=(5.5,3))\n",
    "        self.ax = plt.gca()\n",
    "        self.fig.tight_layout()\n",
    "\n",
    "    def display(self):\n",
    "        plt.show()\n",
    "        \n",
    "    def update(self, *args):\n",
    "        if not controller.update_barplots:\n",
    "            return\n",
    "            \n",
    "        self.ax.clear()\n",
    "        sns.histplot(data=model.results_with_treatment, hue='injected_with', x='ratio_time_in_center', ax=self.ax, multiple='dodge', kde=True)\n",
    "        \n",
    "hist_treatment_group_means_view = HistogramTreatmentGroupMeansView()\n",
    "hist_treatment_group_means_view.display()\n",
    "hist_treatment_group_means_view.update()\n"
   ]
  },
  {
   "cell_type": "markdown",
   "id": "2f1c7a2d-e573-4e7e-87ec-20473b9513f8",
   "metadata": {
    "extensions": {
     "jupyter_dashboards": {
      "activeView": "grid_default",
      "views": {
       "grid_default": {
        "col": null,
        "height": 2,
        "hidden": true,
        "row": null,
        "width": 2
       }
      }
     }
    }
   },
   "source": [
    "### Treatment Group Means"
   ]
  },
  {
   "cell_type": "code",
   "execution_count": 19,
   "id": "eadb3934-ceb2-4537-9dd3-526289ed4a75",
   "metadata": {
    "extensions": {
     "jupyter_dashboards": {
      "activeView": "grid_default",
      "views": {
       "grid_default": {
        "col": 3,
        "height": 7,
        "hidden": false,
        "row": 0,
        "width": 4
       }
      }
     }
    },
    "tags": []
   },
   "outputs": [
    {
     "data": {
      "application/vnd.jupyter.widget-view+json": {
       "model_id": "8cfb9d9c891f48e19268fb75e348a394",
       "version_major": 2,
       "version_minor": 0
      },
      "image/png": "[encoded data removed]",
      "text/html": [
       "\n",
       "            <div style=\"display: inline-block;\">\n",
       "                <div class=\"jupyter-widgets widget-label\" style=\"text-align: center;\">\n",
       "                    Treatment Group Means\n",
       "                </div>\n",
       "                <img src='data:image/png;base64,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' width=550.0/>\n",
       "            </div>\n",
       "        "
      ],
      "text/plain": [
       "Canvas(toolbar=Toolbar(toolitems=[('Home', 'Reset original view', 'home', 'home'), ('Back', 'Back to previous …"
      ]
     },
     "metadata": {},
     "output_type": "display_data"
    }
   ],
   "source": [
    "class TreatmentGroupMeansView:\n",
    "    def __init__(self):\n",
    "        self.fig = plt.figure('Treatment Group Means', figsize=(5.5,3))\n",
    "        self.ax = plt.gca()\n",
    "        self.fig.tight_layout()\n",
    "\n",
    "    def display(self):\n",
    "        plt.show()\n",
    "        \n",
    "    def update(self, *args):\n",
    "        if not controller.update_barplots:\n",
    "            return\n",
    "            \n",
    "        self.ax.clear()\n",
    "        sns.barplot(data=model.results_with_treatment, x='injected_with', y='ratio_time_in_center', ax=self.ax)\n",
    "        \n",
    "treatment_group_means_view = TreatmentGroupMeansView()\n",
    "treatment_group_means_view.display()\n",
    "treatment_group_means_view.update()\n"
   ]
  },
  {
   "cell_type": "markdown",
   "id": "5d152858-8234-4a44-822c-4029fa143b0a",
   "metadata": {
    "extensions": {
     "jupyter_dashboards": {
      "activeView": "grid_default",
      "views": {
       "grid_default": {
        "col": null,
        "height": 2,
        "hidden": true,
        "row": null,
        "width": 2
       }
      }
     }
    }
   },
   "source": [
    "### Treatment/Sex Group Means"
   ]
  },
  {
   "cell_type": "code",
   "execution_count": 20,
   "id": "aa386d81-8068-4290-9ca4-9e212b62262b",
   "metadata": {
    "extensions": {
     "jupyter_dashboards": {
      "activeView": "grid_default",
      "views": {
       "grid_default": {
        "col": 3,
        "height": 7,
        "hidden": false,
        "row": 7,
        "width": 4
       }
      }
     }
    },
    "tags": []
   },
   "outputs": [
    {
     "data": {
      "application/vnd.jupyter.widget-view+json": {
       "model_id": "000853d949ba46fca22e902a508b41fb",
       "version_major": 2,
       "version_minor": 0
      },
      "image/png": "[encoded data removed]",
      "text/html": [
       "\n",
       "            <div style=\"display: inline-block;\">\n",
       "                <div class=\"jupyter-widgets widget-label\" style=\"text-align: center;\">\n",
       "                    Treatment Sex Group Means\n",
       "                </div>\n",
       "                <img src='data:image/png;base64,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' width=550.0/>\n",
       "            </div>\n",
       "        "
      ],
      "text/plain": [
       "Canvas(toolbar=Toolbar(toolitems=[('Home', 'Reset original view', 'home', 'home'), ('Back', 'Back to previous …"
      ]
     },
     "metadata": {},
     "output_type": "display_data"
    }
   ],
   "source": [
    "class TreatmentSexGroupMeansView:\n",
    "    def __init__(self):\n",
    "        self.fig = plt.figure('Treatment Sex Group Means', figsize=(5.5,3))\n",
    "        self.ax = plt.gca()\n",
    "        self.fig.tight_layout()\n",
    "\n",
    "    def update(self, *args):\n",
    "        if not controller.update_barplots:\n",
    "            return\n",
    "            \n",
    "        self.ax.clear()\n",
    "        sns.barplot(data=model.results_with_treatment, x='injected_with', y='ratio_time_in_center', hue='sex', ax=self.ax)\n",
    "        \n",
    "treatment_sex_group_means_view = TreatmentSexGroupMeansView()\n",
    "treatment_sex_group_means_view.update()\n",
    "plt.show()"
   ]
  },
  {
   "cell_type": "markdown",
   "id": "cb3d65bb-f48e-421b-b784-25d2e3899255",
   "metadata": {
    "extensions": {
     "jupyter_dashboards": {
      "activeView": "grid_default",
      "views": {
       "grid_default": {
        "col": null,
        "height": 2,
        "hidden": true,
        "row": null,
        "width": 2
       }
      }
     }
    }
   },
   "source": [
    "## Statistics"
   ]
  },
  {
   "cell_type": "code",
   "execution_count": 11,
   "id": "3099a222-b73a-4bcb-93f0-f023ff5bf518",
   "metadata": {
    "extensions": {
     "jupyter_dashboards": {
      "activeView": "grid_default",
      "views": {
       "grid_default": {
        "col": 7,
        "height": 15,
        "hidden": false,
        "row": 0,
        "width": 3
       }
      }
     }
    },
    "tags": []
   },
   "outputs": [
    {
     "data": {
      "text/html": [
       "<h2>Shapiro-Wilk: Normality</h2>"
      ],
      "text/plain": [
       "<IPython.core.display.HTML object>"
      ]
     },
     "metadata": {},
     "output_type": "display_data"
    },
    {
     "data": {
      "text/html": [
       "<div>\n",
       "<style scoped>\n",
       "    .dataframe tbody tr th:only-of-type {\n",
       "        vertical-align: middle;\n",
       "    }\n",
       "\n",
       "    .dataframe tbody tr th {\n",
       "        vertical-align: top;\n",
       "    }\n",
       "\n",
       "    .dataframe thead th {\n",
       "        text-align: right;\n",
       "    }\n",
       "</style>\n",
       "<table border=\"1\" class=\"dataframe\">\n",
       "  <thead>\n",
       "    <tr style=\"text-align: right;\">\n",
       "      <th></th>\n",
       "      <th></th>\n",
       "      <th>F</th>\n",
       "      <th>pvalue</th>\n",
       "    </tr>\n",
       "    <tr>\n",
       "      <th>treatment1</th>\n",
       "      <th>treatment2</th>\n",
       "      <th></th>\n",
       "      <th></th>\n",
       "    </tr>\n",
       "  </thead>\n",
       "  <tbody>\n",
       "    <tr>\n",
       "      <th rowspan=\"2\" valign=\"top\">mt2</th>\n",
       "      <th>ghrelin</th>\n",
       "      <td>0.810887</td>\n",
       "      <td>0.002872</td>\n",
       "    </tr>\n",
       "    <tr>\n",
       "      <th>saline</th>\n",
       "      <td>0.684444</td>\n",
       "      <td>0.000053</td>\n",
       "    </tr>\n",
       "    <tr>\n",
       "      <th rowspan=\"2\" valign=\"top\">saline</th>\n",
       "      <th>ghrelin</th>\n",
       "      <td>0.919404</td>\n",
       "      <td>0.096503</td>\n",
       "    </tr>\n",
       "    <tr>\n",
       "      <th>saline</th>\n",
       "      <td>0.931292</td>\n",
       "      <td>0.228731</td>\n",
       "    </tr>\n",
       "  </tbody>\n",
       "</table>\n",
       "</div>"
      ],
      "text/plain": [
       "                              F    pvalue\n",
       "treatment1 treatment2                    \n",
       "mt2        ghrelin     0.810887  0.002872\n",
       "           saline      0.684444  0.000053\n",
       "saline     ghrelin     0.919404  0.096503\n",
       "           saline      0.931292  0.228731"
      ]
     },
     "metadata": {},
     "output_type": "display_data"
    },
    {
     "data": {
      "text/html": [
       "<h2>Kruskal-Wallis: Group Differences</h2>"
      ],
      "text/plain": [
       "<IPython.core.display.HTML object>"
      ]
     },
     "metadata": {},
     "output_type": "display_data"
    },
    {
     "name": "stdout",
     "output_type": "stream",
     "text": [
      "kruskal-wallis pvalue: 0.0000\n"
     ]
    },
    {
     "data": {
      "text/html": [
       "<h2>Mannwhitney: Paired Differences</h2>"
      ],
      "text/plain": [
       "<IPython.core.display.HTML object>"
      ]
     },
     "metadata": {},
     "output_type": "display_data"
    },
    {
     "data": {
      "text/html": [
       "<style  type=\"text/css\" >\n",
       "#T_ca7bd_row1_col1,#T_ca7bd_row2_col1,#T_ca7bd_row3_col1,#T_ca7bd_row4_col1{\n",
       "            color:  red;\n",
       "        }</style><table id=\"T_ca7bd_\" ><thead>    <tr>        <th class=\"blank\" ></th>        <th class=\"blank level0\" ></th>        <th class=\"col_heading level0 col0\" >F</th>        <th class=\"col_heading level0 col1\" >pvalue</th>    </tr></thead><tbody>\n",
       "                <tr>\n",
       "                        <th id=\"T_ca7bd_level0_row0\" class=\"row_heading level0 row0\" rowspan=\"3\">mt2/ghrelin</th>\n",
       "                        <th id=\"T_ca7bd_level1_row0\" class=\"row_heading level1 row0\" >mt2/saline</th>\n",
       "                        <td id=\"T_ca7bd_row0_col0\" class=\"data row0 col0\" >97.000000</td>\n",
       "                        <td id=\"T_ca7bd_row0_col1\" class=\"data row0 col1\" >0.031396</td>\n",
       "            </tr>\n",
       "            <tr>\n",
       "                                <th id=\"T_ca7bd_level1_row1\" class=\"row_heading level1 row1\" >saline/ghrelin</th>\n",
       "                        <td id=\"T_ca7bd_row1_col0\" class=\"data row1 col0\" >69.000000</td>\n",
       "                        <td id=\"T_ca7bd_row1_col1\" class=\"data row1 col1\" >0.001094</td>\n",
       "            </tr>\n",
       "            <tr>\n",
       "                                <th id=\"T_ca7bd_level1_row2\" class=\"row_heading level1 row2\" >saline/saline</th>\n",
       "                        <td id=\"T_ca7bd_row2_col0\" class=\"data row2 col0\" >69.000000</td>\n",
       "                        <td id=\"T_ca7bd_row2_col1\" class=\"data row2 col1\" >0.004882</td>\n",
       "            </tr>\n",
       "            <tr>\n",
       "                        <th id=\"T_ca7bd_level0_row3\" class=\"row_heading level0 row3\" rowspan=\"2\">mt2/saline</th>\n",
       "                        <th id=\"T_ca7bd_level1_row3\" class=\"row_heading level1 row3\" >saline/ghrelin</th>\n",
       "                        <td id=\"T_ca7bd_row3_col0\" class=\"data row3 col0\" >24.000000</td>\n",
       "                        <td id=\"T_ca7bd_row3_col1\" class=\"data row3 col1\" >0.000002</td>\n",
       "            </tr>\n",
       "            <tr>\n",
       "                                <th id=\"T_ca7bd_level1_row4\" class=\"row_heading level1 row4\" >saline/saline</th>\n",
       "                        <td id=\"T_ca7bd_row4_col0\" class=\"data row4 col0\" >18.000000</td>\n",
       "                        <td id=\"T_ca7bd_row4_col1\" class=\"data row4 col1\" >0.000004</td>\n",
       "            </tr>\n",
       "            <tr>\n",
       "                        <th id=\"T_ca7bd_level0_row5\" class=\"row_heading level0 row5\" >saline/ghrelin</th>\n",
       "                        <th id=\"T_ca7bd_level1_row5\" class=\"row_heading level1 row5\" >saline/saline</th>\n",
       "                        <td id=\"T_ca7bd_row5_col0\" class=\"data row5 col0\" >145.000000</td>\n",
       "                        <td id=\"T_ca7bd_row5_col1\" class=\"data row5 col1\" >0.227633</td>\n",
       "            </tr>\n",
       "    </tbody></table>"
      ],
      "text/plain": [
       "<pandas.io.formats.style.Styler at 0x7fdb31550340>"
      ]
     },
     "metadata": {},
     "output_type": "display_data"
    },
    {
     "data": {
      "text/html": [
       "<h2>Kolmogorov-Smirnov: Matching Distributions</h2>"
      ],
      "text/plain": [
       "<IPython.core.display.HTML object>"
      ]
     },
     "metadata": {},
     "output_type": "display_data"
    },
    {
     "data": {
      "text/html": [
       "<style  type=\"text/css\" >\n",
       "#T_24139_row3_col1,#T_24139_row4_col1{\n",
       "            color:  red;\n",
       "        }</style><table id=\"T_24139_\" ><thead>    <tr>        <th class=\"blank\" ></th>        <th class=\"blank level0\" ></th>        <th class=\"col_heading level0 col0\" >F</th>        <th class=\"col_heading level0 col1\" >pvalue</th>    </tr></thead><tbody>\n",
       "                <tr>\n",
       "                        <th id=\"T_24139_level0_row0\" class=\"row_heading level0 row0\" rowspan=\"3\">mt2/ghrelin</th>\n",
       "                        <th id=\"T_24139_level1_row0\" class=\"row_heading level1 row0\" >mt2/saline</th>\n",
       "                        <td id=\"T_24139_row0_col0\" class=\"data row0 col0\" >0.359477</td>\n",
       "                        <td id=\"T_24139_row0_col1\" class=\"data row0 col1\" >0.173445</td>\n",
       "            </tr>\n",
       "            <tr>\n",
       "                                <th id=\"T_24139_level1_row1\" class=\"row_heading level1 row1\" >saline/ghrelin</th>\n",
       "                        <td id=\"T_24139_row1_col0\" class=\"data row1 col0\" >0.482353</td>\n",
       "                        <td id=\"T_24139_row1_col1\" class=\"data row1 col1\" >0.017848</td>\n",
       "            </tr>\n",
       "            <tr>\n",
       "                                <th id=\"T_24139_level1_row2\" class=\"row_heading level1 row2\" >saline/saline</th>\n",
       "                        <td id=\"T_24139_row2_col0\" class=\"data row2 col0\" >0.529412</td>\n",
       "                        <td id=\"T_24139_row2_col1\" class=\"data row2 col1\" >0.015561</td>\n",
       "            </tr>\n",
       "            <tr>\n",
       "                        <th id=\"T_24139_level0_row3\" class=\"row_heading level0 row3\" rowspan=\"2\">mt2/saline</th>\n",
       "                        <th id=\"T_24139_level1_row3\" class=\"row_heading level1 row3\" >saline/ghrelin</th>\n",
       "                        <td id=\"T_24139_row3_col0\" class=\"data row3 col0\" >0.744444</td>\n",
       "                        <td id=\"T_24139_row3_col1\" class=\"data row3 col1\" >0.000010</td>\n",
       "            </tr>\n",
       "            <tr>\n",
       "                                <th id=\"T_24139_level1_row4\" class=\"row_heading level1 row4\" >saline/saline</th>\n",
       "                        <td id=\"T_24139_row4_col0\" class=\"data row4 col0\" >0.830065</td>\n",
       "                        <td id=\"T_24139_row4_col1\" class=\"data row4 col1\" >0.000002</td>\n",
       "            </tr>\n",
       "            <tr>\n",
       "                        <th id=\"T_24139_level0_row5\" class=\"row_heading level0 row5\" >saline/ghrelin</th>\n",
       "                        <th id=\"T_24139_level1_row5\" class=\"row_heading level1 row5\" >saline/saline</th>\n",
       "                        <td id=\"T_24139_row5_col0\" class=\"data row5 col0\" >0.223529</td>\n",
       "                        <td id=\"T_24139_row5_col1\" class=\"data row5 col1\" >0.650195</td>\n",
       "            </tr>\n",
       "    </tbody></table>"
      ],
      "text/plain": [
       "<pandas.io.formats.style.Styler at 0x7fdb3153f2e0>"
      ]
     },
     "metadata": {},
     "output_type": "display_data"
    }
   ],
   "source": [
    "from scipy.stats import kstest, shapiro, kruskal, mannwhitneyu\n",
    "from itertools import combinations\n",
    "\n",
    "class StatsView:\n",
    "    def __init__(self):\n",
    "        self.output = widgets.Output()\n",
    "    \n",
    "    def display(self):\n",
    "        display(self.output)\n",
    "        \n",
    "    def update(self):\n",
    "        if not controller.update_stats:\n",
    "            return\n",
    "            \n",
    "        self.output.clear_output()\n",
    "        with self.output:\n",
    "            groups = model.results_with_treatment.groupby(['treatment1', 'treatment2'])\n",
    "            alpha = 0.05\n",
    "            \n",
    "            display(HTML(\"<h2>Shapiro-Wilk: Normality</h2>\"))\n",
    "            results = groups.apply(lambda x: shapiro(x.ratio_time_in_center.values))\n",
    "            results = pd.DataFrame(\n",
    "                results.apply(lambda x: {'F': x[0], 'pvalue': x[1]}).tolist(),\n",
    "                index=results.index)\n",
    "            display(results)\n",
    "            \n",
    "            display(HTML(\"<h2>Kruskal-Wallis: Group Differences</h2>\"))\n",
    "            groups = model.results_with_treatment.groupby(['treatment1', 'treatment2'])\n",
    "            results = kruskal(*groups.apply(lambda x: x.ratio_time_in_center.tolist()).values)\n",
    "            print(f\"kruskal-wallis pvalue: {results.pvalue:.4f}\")\n",
    "            \n",
    "            display(HTML(\"<h2>Mannwhitney: Paired Differences</h2>\"))\n",
    "            results = {}\n",
    "            group_names = list(groups.indices.keys())\n",
    "            for g1, g2 in combinations(group_names, r=2):\n",
    "                l1 = '/'.join(g1)\n",
    "                l2 = '/'.join(g2)\n",
    "                results[(l1,l2)] = mannwhitneyu(\n",
    "                    groups.get_group(g1).ratio_time_in_center, \n",
    "                    groups.get_group(g2).ratio_time_in_center)\n",
    "\n",
    "            results = pd.DataFrame(results, index=['F', 'pvalue']).T\n",
    "            bonferonni_alpha = alpha / results.shape[0]\n",
    "            \n",
    "            results = results.style.applymap(\n",
    "                lambda x: 'color: red' if x < bonferonni_alpha else '', subset=['pvalue'])\n",
    "            display(results)\n",
    "                \n",
    "            display(HTML(\"<h2>Kolmogorov-Smirnov: Matching Distributions</h2>\"))\n",
    "            results = {}\n",
    "            group_names = list(groups.indices.keys())\n",
    "            for g1, g2 in combinations(group_names, r=2):\n",
    "                l1 = '/'.join(g1)\n",
    "                l2 = '/'.join(g2)\n",
    "                results[(l1,l2)] = kstest(\n",
    "                    groups.get_group(g1).ratio_time_in_center, \n",
    "                    groups.get_group(g2).ratio_time_in_center)\n",
    "\n",
    "            results = pd.DataFrame(results, index=['F', 'pvalue']).T\n",
    "            results = results.style.applymap(\n",
    "                lambda x: 'color: red' if x < bonferonni_alpha else '', subset=['pvalue'])\n",
    "            display(results)\n",
    "            \n",
    "stats_view = StatsView()\n",
    "stats_view.display()\n",
    "stats_view.update()"
   ]
  },
  {
   "cell_type": "markdown",
   "id": "fe97ae64-07be-482b-bbed-4a17946debbb",
   "metadata": {
    "extensions": {
     "jupyter_dashboards": {
      "activeView": "grid_default",
      "views": {
       "grid_default": {
        "col": null,
        "height": 2,
        "hidden": true,
        "row": null,
        "width": 2
       }
      }
     }
    }
   },
   "source": [
    "### Jenson-Shannon (KL-Divergence) "
   ]
  },
  {
   "cell_type": "code",
   "execution_count": 12,
   "id": "ec088137-a10e-4f46-9920-8b50d2f1977b",
   "metadata": {
    "extensions": {
     "jupyter_dashboards": {
      "activeView": "grid_default",
      "views": {
       "grid_default": {
        "col": 10,
        "height": 5,
        "hidden": false,
        "row": 3,
        "width": 2
       }
      }
     }
    },
    "tags": []
   },
   "outputs": [
    {
     "data": {
      "text/html": [
       "<h2>JS Entropy</h2>"
      ],
      "text/plain": [
       "<IPython.core.display.HTML object>"
      ]
     },
     "metadata": {},
     "output_type": "display_data"
    },
    {
     "data": {
      "text/html": [
       "<div>\n",
       "<style scoped>\n",
       "    .dataframe tbody tr th:only-of-type {\n",
       "        vertical-align: middle;\n",
       "    }\n",
       "\n",
       "    .dataframe tbody tr th {\n",
       "        vertical-align: top;\n",
       "    }\n",
       "\n",
       "    .dataframe thead th {\n",
       "        text-align: right;\n",
       "    }\n",
       "</style>\n",
       "<table border=\"1\" class=\"dataframe\">\n",
       "  <thead>\n",
       "    <tr style=\"text-align: right;\">\n",
       "      <th></th>\n",
       "      <th></th>\n",
       "      <th>JS entropy</th>\n",
       "    </tr>\n",
       "  </thead>\n",
       "  <tbody>\n",
       "    <tr>\n",
       "      <th rowspan=\"3\" valign=\"top\">mt2/ghrelin</th>\n",
       "      <th>mt2/saline</th>\n",
       "      <td>88.012919</td>\n",
       "    </tr>\n",
       "    <tr>\n",
       "      <th>saline/ghrelin</th>\n",
       "      <td>67.196201</td>\n",
       "    </tr>\n",
       "    <tr>\n",
       "      <th>saline/saline</th>\n",
       "      <td>135.080055</td>\n",
       "    </tr>\n",
       "    <tr>\n",
       "      <th rowspan=\"2\" valign=\"top\">mt2/saline</th>\n",
       "      <th>saline/ghrelin</th>\n",
       "      <td>292.873909</td>\n",
       "    </tr>\n",
       "    <tr>\n",
       "      <th>saline/saline</th>\n",
       "      <td>403.428938</td>\n",
       "    </tr>\n",
       "    <tr>\n",
       "      <th>saline/ghrelin</th>\n",
       "      <th>saline/saline</th>\n",
       "      <td>69.802879</td>\n",
       "    </tr>\n",
       "  </tbody>\n",
       "</table>\n",
       "</div>"
      ],
      "text/plain": [
       "                               JS entropy\n",
       "mt2/ghrelin    mt2/saline       88.012919\n",
       "               saline/ghrelin   67.196201\n",
       "               saline/saline   135.080055\n",
       "mt2/saline     saline/ghrelin  292.873909\n",
       "               saline/saline   403.428938\n",
       "saline/ghrelin saline/saline    69.802879"
      ]
     },
     "metadata": {},
     "output_type": "display_data"
    }
   ],
   "source": [
    "from scipy.special import rel_entr\n",
    "\n",
    "class JSEntropyView:\n",
    "    def __init__(self):\n",
    "        self.output = widgets.Output()\n",
    "        \n",
    "    def display(self):\n",
    "        display(self.output)\n",
    "        \n",
    "    def update(self, *args):\n",
    "        if not controller.update_stats:\n",
    "            return\n",
    "        \n",
    "        self.output.clear_output()\n",
    "        with self.output:\n",
    "            groups = model.results_with_treatment.groupby(['treatment1', 'treatment2'])\n",
    "            hist = groups.apply(\n",
    "                lambda x: np.histogram(x.ratio_time_in_center.values, density=True)[0])\n",
    "\n",
    "\n",
    "            results = {}\n",
    "            for g1, g2 in combinations(groups.indices.keys(), r=2):\n",
    "                h1 = hist.loc[g1]\n",
    "                h2 = hist.loc[g2]\n",
    "                js = sum(rel_entr(h1, h2)[h2!=0]) + sum(rel_entr(h2, h1)[h1!=0])\n",
    "                l1 = '/'.join(g1)\n",
    "                l2 = '/'.join(g2)\n",
    "                results[(l1, l2)] = js\n",
    "\n",
    "            results = pd.DataFrame(results, index=['JS entropy']).T\n",
    "            \n",
    "            display(HTML(\"<h2>JS Entropy</h2>\"))\n",
    "            display(results)\n",
    "            \n",
    "js_entropy_view = JSEntropyView()\n",
    "js_entropy_view.display()\n",
    "js_entropy_view.update()"
   ]
  },
  {
   "cell_type": "markdown",
   "id": "84035373-06a3-4974-8f7d-8903747b9326",
   "metadata": {
    "extensions": {
     "jupyter_dashboards": {
      "activeView": "grid_default",
      "views": {
       "grid_default": {
        "col": 0,
        "height": 1,
        "hidden": true,
        "row": 1,
        "width": 4
       }
      }
     }
    }
   },
   "source": [
    "### Correlation"
   ]
  },
  {
   "cell_type": "code",
   "execution_count": 13,
   "id": "02eec2bf-7626-4583-aa0c-4cbbbffc03a7",
   "metadata": {
    "extensions": {
     "jupyter_dashboards": {
      "activeView": "grid_default",
      "views": {
       "grid_default": {
        "col": 10,
        "height": 3,
        "hidden": false,
        "row": 0,
        "width": 2
       }
      }
     }
    },
    "tags": []
   },
   "outputs": [
    {
     "data": {
      "text/html": [
       "<h2>Manual-Automatic Correlation</h2>"
      ],
      "text/plain": [
       "<IPython.core.display.HTML object>"
      ]
     },
     "metadata": {},
     "output_type": "display_data"
    },
    {
     "data": {
      "text/html": [
       "<i> Time Eating </i>"
      ],
      "text/plain": [
       "<IPython.core.display.HTML object>"
      ]
     },
     "metadata": {},
     "output_type": "display_data"
    },
    {
     "data": {
      "text/html": [
       "<div>\n",
       "<style scoped>\n",
       "    .dataframe tbody tr th:only-of-type {\n",
       "        vertical-align: middle;\n",
       "    }\n",
       "\n",
       "    .dataframe tbody tr th {\n",
       "        vertical-align: top;\n",
       "    }\n",
       "\n",
       "    .dataframe thead th {\n",
       "        text-align: right;\n",
       "    }\n",
       "</style>\n",
       "<table border=\"1\" class=\"dataframe\">\n",
       "  <thead>\n",
       "    <tr style=\"text-align: right;\">\n",
       "      <th></th>\n",
       "      <th>automatic</th>\n",
       "      <th>manual</th>\n",
       "    </tr>\n",
       "  </thead>\n",
       "  <tbody>\n",
       "    <tr>\n",
       "      <th>automatic</th>\n",
       "      <td>1.000000</td>\n",
       "      <td>0.686681</td>\n",
       "    </tr>\n",
       "    <tr>\n",
       "      <th>manual</th>\n",
       "      <td>0.686681</td>\n",
       "      <td>1.000000</td>\n",
       "    </tr>\n",
       "  </tbody>\n",
       "</table>\n",
       "</div>"
      ],
      "text/plain": [
       "           automatic    manual\n",
       "automatic   1.000000  0.686681\n",
       "manual      0.686681  1.000000"
      ]
     },
     "metadata": {},
     "output_type": "display_data"
    }
   ],
   "source": [
    "class CorrelationView:\n",
    "    def __init__(self):\n",
    "        self.output = widgets.Output()\n",
    "        \n",
    "    def display(self):\n",
    "        display(self.output)\n",
    "        \n",
    "    def update(self, *args):\n",
    "        if not controller.update_stats:\n",
    "            return\n",
    "        \n",
    "        self.output.clear_output()\n",
    "        with self.output:\n",
    "            corr = model.results_with_treatment[['ratio_time_in_center', 'time_eating']].corr()\n",
    "            corr.columns = ['automatic', 'manual']\n",
    "            corr.index = ['automatic', 'manual']\n",
    "            \n",
    "            display(HTML(\"<h2>Manual-Automatic Correlation</h2>\"))\n",
    "            display(HTML(\"<i> Time Eating </i>\"))\n",
    "            display(corr)\n",
    "            \n",
    "correlation_view = CorrelationView()\n",
    "correlation_view.display()\n",
    "correlation_view.update()"
   ]
  },
  {
   "cell_type": "code",
   "execution_count": 14,
   "id": "1a968587-cbc3-481f-bd2e-e55fe0ca01b1",
   "metadata": {
    "extensions": {
     "jupyter_dashboards": {
      "activeView": "grid_default",
      "views": {
       "grid_default": {
        "col": null,
        "height": 2,
        "hidden": true,
        "row": null,
        "width": 2
       }
      }
     }
    }
   },
   "outputs": [
    {
     "data": {
      "text/html": [
       "<div>\n",
       "<style scoped>\n",
       "    .dataframe tbody tr th:only-of-type {\n",
       "        vertical-align: middle;\n",
       "    }\n",
       "\n",
       "    .dataframe tbody tr th {\n",
       "        vertical-align: top;\n",
       "    }\n",
       "\n",
       "    .dataframe thead th {\n",
       "        text-align: right;\n",
       "    }\n",
       "</style>\n",
       "<table border=\"1\" class=\"dataframe\">\n",
       "  <thead>\n",
       "    <tr style=\"text-align: right;\">\n",
       "      <th></th>\n",
       "      <th>0</th>\n",
       "    </tr>\n",
       "    <tr>\n",
       "      <th>animal</th>\n",
       "      <th></th>\n",
       "    </tr>\n",
       "  </thead>\n",
       "  <tbody>\n",
       "    <tr>\n",
       "      <th>f20</th>\n",
       "      <td>540.000000</td>\n",
       "    </tr>\n",
       "    <tr>\n",
       "      <th>f32</th>\n",
       "      <td>540.000000</td>\n",
       "    </tr>\n",
       "    <tr>\n",
       "      <th>f35</th>\n",
       "      <td>522.980000</td>\n",
       "    </tr>\n",
       "    <tr>\n",
       "      <th>m28</th>\n",
       "      <td>509.660000</td>\n",
       "    </tr>\n",
       "    <tr>\n",
       "      <th>f36</th>\n",
       "      <td>505.730000</td>\n",
       "    </tr>\n",
       "    <tr>\n",
       "      <th>...</th>\n",
       "      <td>...</td>\n",
       "    </tr>\n",
       "    <tr>\n",
       "      <th>m2</th>\n",
       "      <td>71.010000</td>\n",
       "    </tr>\n",
       "    <tr>\n",
       "      <th>f15</th>\n",
       "      <td>60.760000</td>\n",
       "    </tr>\n",
       "    <tr>\n",
       "      <th>f14</th>\n",
       "      <td>58.933333</td>\n",
       "    </tr>\n",
       "    <tr>\n",
       "      <th>m4</th>\n",
       "      <td>25.026667</td>\n",
       "    </tr>\n",
       "    <tr>\n",
       "      <th>f3</th>\n",
       "      <td>23.306667</td>\n",
       "    </tr>\n",
       "  </tbody>\n",
       "</table>\n",
       "<p>72 rows × 1 columns</p>\n",
       "</div>"
      ],
      "text/plain": [
       "                 0\n",
       "animal            \n",
       "f20     540.000000\n",
       "f32     540.000000\n",
       "f35     522.980000\n",
       "m28     509.660000\n",
       "f36     505.730000\n",
       "...            ...\n",
       "m2       71.010000\n",
       "f15      60.760000\n",
       "f14      58.933333\n",
       "m4       25.026667\n",
       "f3       23.306667\n",
       "\n",
       "[72 rows x 1 columns]"
      ]
     },
     "execution_count": 34,
     "metadata": {},
     "output_type": "execute_result"
    }
   ],
   "source": [
    "manual = model.results_with_treatment.time_in_corner\n",
    "automatic = model.results_with_treatment.ratio_time_in_center\n",
    "differences = manual - automatic * model.results_with_treatment.total_time/30\n",
    "\n",
    "pd.DataFrame([differences]).T.sort_values(by=0, ascending=False)"
   ]
  },
  {
   "cell_type": "markdown",
   "id": "04bfcee0-1856-4779-bd90-42cc12c37532",
   "metadata": {
    "extensions": {
     "jupyter_dashboards": {
      "activeView": "grid_default",
      "views": {
       "grid_default": {
        "col": null,
        "height": 2,
        "hidden": true,
        "row": null,
        "width": 2
       }
      }
     }
    }
   },
   "source": [
    "## Events"
   ]
  },
  {
   "cell_type": "code",
   "execution_count": 15,
   "id": "c06585ad-5af1-432b-a915-9885181c445f",
   "metadata": {
    "extensions": {
     "jupyter_dashboards": {
      "activeView": "grid_default",
      "views": {
       "grid_default": {
        "col": null,
        "height": 2,
        "hidden": true,
        "row": null,
        "width": 2
       }
      }
     }
    }
   },
   "outputs": [],
   "source": [
    "controller.center_size_slider.observe(model.update_analysis)\n",
    "controller.time_slice_slider.observe(model.update_time_range)\n",
    "controller.analsis_button.on_click(model.update_analysis)\n",
    "controller.analsis_button.on_click(video_view.update)"
   ]
  },
  {
   "cell_type": "code",
   "execution_count": 37,
   "id": "756583ad-ef38-4de7-8741-43870afea9f6",
   "metadata": {
    "extensions": {
     "jupyter_dashboards": {
      "activeView": "grid_default",
      "views": {
       "grid_default": {
        "col": null,
        "height": 2,
        "hidden": true,
        "row": null,
        "width": 2
       }
      }
     }
    }
   },
   "outputs": [],
   "source": [
    "model.observe(treatment_group_means_view.update)\n",
    "model.observe(treatment_sex_group_means_view.update)\n",
    "model.observe(hist_treatment_group_means_view.update)\n",
    "model.observe(correlation_view.update)\n",
    "model.observe(js_entropy_view.update)\n",
    "model.observe(stats_view.update)\n",
    "\n",
    "# Video\n",
    "controller.frame_index_slider.observe(video_view.update)\n",
    "controller.video_dropdown.observe(video_view.update)\n",
    "controller.center_size_slider.observe(video_view.update)"
   ]
  },
  {
   "cell_type": "markdown",
   "id": "80a34b17-5699-4113-b138-6d1579033ed8",
   "metadata": {
    "extensions": {
     "jupyter_dashboards": {
      "activeView": "grid_default",
      "views": {
       "grid_default": {
        "col": 10,
        "height": 5,
        "hidden": false,
        "row": 8,
        "width": 2
       }
      }
     }
    },
    "tags": []
   },
   "source": [
    "## Notes\n",
    "- Center size of ~59 for the whole video sees sig results for 4 groups (excluding saline/ghrelin differences)\n",
    "- A size of ~87, with a time range stretching ~the first 50% of videos has all pvalues<0.05 (but we use bonferonni here). The KS pvalus are also low however"
   ]
  }
 ],
 "metadata": {
  "extensions": {
   "jupyter_dashboards": {
    "activeView": "grid_default",
    "version": 1,
    "views": {
     "grid_default": {
      "cellMargin": -2,
      "defaultCellHeight": 60,
      "maxColumns": 12,
      "name": "grid",
      "type": "grid"
     }
    }
   }
  },
  "kernelspec": {
   "display_name": "py39",
   "language": "python",
   "name": "py39"
  },
  "language_info": {
   "codemirror_mode": {
    "name": "ipython",
    "version": 3
   },
   "file_extension": ".py",
   "mimetype": "text/x-python",
   "name": "python",
   "nbconvert_exporter": "python",
   "pygments_lexer": "ipython3",
   "version": "3.9.4"
  },
  "voila": {
   "theme": "light"
  }
 },
 "nbformat": 4,
 "nbformat_minor": 5
}
